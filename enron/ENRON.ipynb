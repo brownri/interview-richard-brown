{
 "cells": [
  {
   "cell_type": "code",
   "execution_count": 1,
   "metadata": {
    "collapsed": false
   },
   "outputs": [
    {
     "name": "stdout",
     "output_type": "stream",
     "text": [
      "--2019-06-02 10:24:54--  https://storage.googleapis.com/reinfer-datasets/enron_mail_20150507.tar.gz\n",
      "Resolving storage.googleapis.com (storage.googleapis.com)... 216.58.210.48, 2a00:1450:4009:807::2010\n",
      "Connecting to storage.googleapis.com (storage.googleapis.com)|216.58.210.48|:443... connected.\n",
      "HTTP request sent, awaiting response... 200 OK\n",
      "Length: 443254787 (423M) [application/x-tar]\n",
      "Saving to: ‘enron_mail_20150507.tar.gz’\n",
      "\n",
      "enron_mail_20150507 100%[===================>] 422.72M   109MB/s    in 4.5s    \n",
      "\n",
      "2019-06-02 10:24:58 (93.0 MB/s) - ‘enron_mail_20150507.tar.gz’ saved [443254787/443254787]\n",
      "\n"
     ]
    }
   ],
   "source": [
    "! wget https://storage.googleapis.com/reinfer-datasets/enron_mail_20150507.tar.gz"
   ]
  },
  {
   "cell_type": "code",
   "execution_count": 21,
   "metadata": {
    "collapsed": true
   },
   "outputs": [],
   "source": [
    "!tar -xf enron_mail_20150507.tar.gz"
   ]
  },
  {
   "cell_type": "code",
   "execution_count": 56,
   "metadata": {
    "collapsed": false
   },
   "outputs": [
    {
     "ename": "IsADirectoryError",
     "evalue": "[Errno 21] Is a directory: '/data/notebook/rich_notebooks/interview_q/interview-richard-brown/enron/maildir/allen-p/sent_items'",
     "output_type": "error",
     "traceback": [
      "\u001b[0;31m---------------------------------------------------------------------------\u001b[0m",
      "\u001b[0;31mIsADirectoryError\u001b[0m                         Traceback (most recent call last)",
      "\u001b[0;32m<ipython-input-56-bfc9f2f1ca12>\u001b[0m in \u001b[0;36m<module>\u001b[0;34m()\u001b[0m\n\u001b[1;32m      1\u001b[0m \u001b[0;32mfrom\u001b[0m \u001b[0mmailbox\u001b[0m \u001b[0;32mimport\u001b[0m \u001b[0mmboxMessage\u001b[0m\u001b[0;34m,\u001b[0m \u001b[0mmbox\u001b[0m\u001b[0;34m\u001b[0m\u001b[0m\n\u001b[0;32m----> 2\u001b[0;31m \u001b[0mmbox\u001b[0m\u001b[0;34m(\u001b[0m\u001b[0;34m\"maildir/allen-p/sent_items/\"\u001b[0m\u001b[0;34m)\u001b[0m\u001b[0;34m\u001b[0m\u001b[0m\n\u001b[0m\u001b[1;32m      3\u001b[0m \u001b[0mbox\u001b[0m \u001b[0;34m=\u001b[0m \u001b[0mmboxMessage\u001b[0m\u001b[0;34m(\u001b[0m\u001b[0mopen\u001b[0m\u001b[0;34m(\u001b[0m\u001b[0;34m\"maildir/allen-p/sent_items/1.\"\u001b[0m\u001b[0;34m)\u001b[0m\u001b[0;34m)\u001b[0m\u001b[0;34m\u001b[0m\u001b[0m\n",
      "\u001b[0;32m/usr/lib/python3.5/mailbox.py\u001b[0m in \u001b[0;36m__init__\u001b[0;34m(self, path, factory, create)\u001b[0m\n\u001b[1;32m    843\u001b[0m         \u001b[0;34m\"\"\"Initialize an mbox mailbox.\"\"\"\u001b[0m\u001b[0;34m\u001b[0m\u001b[0m\n\u001b[1;32m    844\u001b[0m         \u001b[0mself\u001b[0m\u001b[0;34m.\u001b[0m\u001b[0m_message_factory\u001b[0m \u001b[0;34m=\u001b[0m \u001b[0mmboxMessage\u001b[0m\u001b[0;34m\u001b[0m\u001b[0m\n\u001b[0;32m--> 845\u001b[0;31m         \u001b[0m_mboxMMDF\u001b[0m\u001b[0;34m.\u001b[0m\u001b[0m__init__\u001b[0m\u001b[0;34m(\u001b[0m\u001b[0mself\u001b[0m\u001b[0;34m,\u001b[0m \u001b[0mpath\u001b[0m\u001b[0;34m,\u001b[0m \u001b[0mfactory\u001b[0m\u001b[0;34m,\u001b[0m \u001b[0mcreate\u001b[0m\u001b[0;34m)\u001b[0m\u001b[0;34m\u001b[0m\u001b[0m\n\u001b[0m\u001b[1;32m    846\u001b[0m \u001b[0;34m\u001b[0m\u001b[0m\n\u001b[1;32m    847\u001b[0m     \u001b[0;32mdef\u001b[0m \u001b[0m_post_message_hook\u001b[0m\u001b[0;34m(\u001b[0m\u001b[0mself\u001b[0m\u001b[0;34m,\u001b[0m \u001b[0mf\u001b[0m\u001b[0;34m)\u001b[0m\u001b[0;34m:\u001b[0m\u001b[0;34m\u001b[0m\u001b[0m\n",
      "\u001b[0;32m/usr/lib/python3.5/mailbox.py\u001b[0m in \u001b[0;36m__init__\u001b[0;34m(self, path, factory, create)\u001b[0m\n\u001b[1;32m    577\u001b[0m         \u001b[0mMailbox\u001b[0m\u001b[0;34m.\u001b[0m\u001b[0m__init__\u001b[0m\u001b[0;34m(\u001b[0m\u001b[0mself\u001b[0m\u001b[0;34m,\u001b[0m \u001b[0mpath\u001b[0m\u001b[0;34m,\u001b[0m \u001b[0mfactory\u001b[0m\u001b[0;34m,\u001b[0m \u001b[0mcreate\u001b[0m\u001b[0;34m)\u001b[0m\u001b[0;34m\u001b[0m\u001b[0m\n\u001b[1;32m    578\u001b[0m         \u001b[0;32mtry\u001b[0m\u001b[0;34m:\u001b[0m\u001b[0;34m\u001b[0m\u001b[0m\n\u001b[0;32m--> 579\u001b[0;31m             \u001b[0mf\u001b[0m \u001b[0;34m=\u001b[0m \u001b[0mopen\u001b[0m\u001b[0;34m(\u001b[0m\u001b[0mself\u001b[0m\u001b[0;34m.\u001b[0m\u001b[0m_path\u001b[0m\u001b[0;34m,\u001b[0m \u001b[0;34m'rb+'\u001b[0m\u001b[0;34m)\u001b[0m\u001b[0;34m\u001b[0m\u001b[0m\n\u001b[0m\u001b[1;32m    580\u001b[0m         \u001b[0;32mexcept\u001b[0m \u001b[0mOSError\u001b[0m \u001b[0;32mas\u001b[0m \u001b[0me\u001b[0m\u001b[0;34m:\u001b[0m\u001b[0;34m\u001b[0m\u001b[0m\n\u001b[1;32m    581\u001b[0m             \u001b[0;32mif\u001b[0m \u001b[0me\u001b[0m\u001b[0;34m.\u001b[0m\u001b[0merrno\u001b[0m \u001b[0;34m==\u001b[0m \u001b[0merrno\u001b[0m\u001b[0;34m.\u001b[0m\u001b[0mENOENT\u001b[0m\u001b[0;34m:\u001b[0m\u001b[0;34m\u001b[0m\u001b[0m\n",
      "\u001b[0;31mIsADirectoryError\u001b[0m: [Errno 21] Is a directory: '/data/notebook/rich_notebooks/interview_q/interview-richard-brown/enron/maildir/allen-p/sent_items'"
     ]
    }
   ],
   "source": [
    "from mailbox import mboxMessage, mbox\n",
    "mbox(\"maildir/allen-p/sent_items/\")\n",
    "box = mboxMessage(open(\"maildir/allen-p/sent_items/1.\"))"
   ]
  },
  {
   "cell_type": "code",
   "execution_count": 41,
   "metadata": {
    "collapsed": false
   },
   "outputs": [],
   "source": [
    "import re\n",
    "import glob\n",
    "from collections import defaultdict, Counter\n",
    "from mailbox import mboxMessage\n",
    "\n",
    "# What we want to do here is create a data-structure that maps from: recieved : n\n",
    "# to do this efficiently we use the defaultdict-counter combo\n",
    "# I experimented a little using the 'mbox' class to do everything at once but couldn't make it work. If I have time i'll\n",
    "# go back\n",
    "\n",
    "# Certain emails don't have 'To' or 'From' usually ones that are going to a group list. \n",
    "# As we don't know who is on these lists lets ignore this class of message for now, even \n",
    "# though this isn't ideal, as it is conceivable that big influencers are much more likely to \n",
    "# emails these lists\n",
    "            \n",
    "\n",
    "# data structures:\n",
    "connections = defaultdict(Counter) # connection counts\n",
    "previously_seen = set() # keeps a hash of the payloads of previously seen messages to avoid double counting\n",
    "\n",
    "for f in glob.glob(\"maildir/**\", recursive=True):\n",
    "    try:\n",
    "        with open(f) as mbox_file:\n",
    "            msg = mboxMessage(mbox_file)\n",
    "                \n",
    "            payload = msg.get_payload()\n",
    "            if  msg[\"From\"] is not None and msg[\"To\"] is not None and payload is not None:\n",
    "                payload_hash = hash(payload)\n",
    "                if payload_hash not in previously_seen:\n",
    "                    fr = msg[\"From\"]\n",
    "                    to = re.sub('\\ |\\n|\\t', '', msg[\"To\"]).split(\",\") # remove special characters and spaces\n",
    "                    connections[fr].update(to)\n",
    "                    previously_seen.add(payload_hash)\n",
    "            \n",
    "    except (IsADirectoryError, UnicodeDecodeError) as e:\n",
    "        pass\n",
    "\n",
    "    "
   ]
  },
  {
   "cell_type": "code",
   "execution_count": 42,
   "metadata": {
    "collapsed": false
   },
   "outputs": [
    {
     "data": {
      "text/plain": [
       "19567"
      ]
     },
     "execution_count": 42,
     "metadata": {},
     "output_type": "execute_result"
    }
   ],
   "source": [
    "print (\"{} unique senders\".len(connections)"
   ]
  },
  {
   "cell_type": "code",
   "execution_count": null,
   "metadata": {
    "collapsed": true
   },
   "outputs": [],
   "source": []
  }
 ],
 "metadata": {
  "kernelspec": {
   "display_name": "default-python3",
   "language": "python",
   "name": "default-python3"
  },
  "language_info": {
   "codemirror_mode": {
    "name": "ipython",
    "version": 3
   },
   "file_extension": ".py",
   "mimetype": "text/x-python",
   "name": "python",
   "nbconvert_exporter": "python",
   "pygments_lexer": "ipython3",
   "version": "3.5.2"
  }
 },
 "nbformat": 4,
 "nbformat_minor": 2
}
